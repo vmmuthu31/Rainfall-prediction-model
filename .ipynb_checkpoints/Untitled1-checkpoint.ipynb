{
 "cells": [
  {
   "cell_type": "code",
   "execution_count": 1,
   "id": "3ebba9df",
   "metadata": {},
   "outputs": [
    {
     "name": "stdout",
     "output_type": "stream",
     "text": [
      "Requirement already satisfied: numpy in c:\\users\\mvair\\anaconda3\\lib\\site-packages (1.26.2)\n",
      "Requirement already satisfied: pandas in c:\\users\\mvair\\anaconda3\\lib\\site-packages (1.4.2)\n",
      "Requirement already satisfied: h5py in c:\\users\\mvair\\anaconda3\\lib\\site-packages (3.6.0)\n",
      "Requirement already satisfied: netCDF4 in c:\\users\\mvair\\appdata\\roaming\\python\\python39\\site-packages (1.6.5)\n",
      "Requirement already satisfied: xgboost in c:\\users\\mvair\\appdata\\roaming\\python\\python39\\site-packages (2.0.2)\n",
      "Requirement already satisfied: shap in c:\\users\\mvair\\appdata\\roaming\\python\\python39\\site-packages (0.44.0)\n",
      "Requirement already satisfied: matplotlib in c:\\users\\mvair\\anaconda3\\lib\\site-packages (3.5.1)\n",
      "Requirement already satisfied: python-dateutil>=2.8.1 in c:\\users\\mvair\\anaconda3\\lib\\site-packages (from pandas) (2.8.2)\n",
      "Requirement already satisfied: pytz>=2020.1 in c:\\users\\mvair\\anaconda3\\lib\\site-packages (from pandas) (2021.3)\n",
      "Requirement already satisfied: certifi in c:\\users\\mvair\\anaconda3\\lib\\site-packages (from netCDF4) (2021.10.8)\n",
      "Requirement already satisfied: cftime in c:\\users\\mvair\\appdata\\roaming\\python\\python39\\site-packages (from netCDF4) (1.6.3)\n",
      "Requirement already satisfied: scipy in c:\\users\\mvair\\anaconda3\\lib\\site-packages (from xgboost) (1.7.3)\n",
      "Requirement already satisfied: scikit-learn in c:\\users\\mvair\\anaconda3\\lib\\site-packages (from shap) (1.0.2)\n",
      "Requirement already satisfied: cloudpickle in c:\\users\\mvair\\anaconda3\\lib\\site-packages (from shap) (2.0.0)\n",
      "Requirement already satisfied: tqdm>=4.27.0 in c:\\users\\mvair\\anaconda3\\lib\\site-packages (from shap) (4.64.0)\n",
      "Requirement already satisfied: slicer==0.0.7 in c:\\users\\mvair\\appdata\\roaming\\python\\python39\\site-packages (from shap) (0.0.7)\n",
      "Requirement already satisfied: packaging>20.9 in c:\\users\\mvair\\anaconda3\\lib\\site-packages (from shap) (21.3)\n",
      "Requirement already satisfied: numba in c:\\users\\mvair\\anaconda3\\lib\\site-packages (from shap) (0.55.1)\n",
      "Requirement already satisfied: pyparsing>=2.2.1 in c:\\users\\mvair\\anaconda3\\lib\\site-packages (from matplotlib) (3.0.4)\n",
      "Requirement already satisfied: cycler>=0.10 in c:\\users\\mvair\\anaconda3\\lib\\site-packages (from matplotlib) (0.11.0)\n",
      "Requirement already satisfied: kiwisolver>=1.0.1 in c:\\users\\mvair\\anaconda3\\lib\\site-packages (from matplotlib) (1.3.2)\n",
      "Requirement already satisfied: fonttools>=4.22.0 in c:\\users\\mvair\\anaconda3\\lib\\site-packages (from matplotlib) (4.25.0)\n",
      "Requirement already satisfied: pillow>=6.2.0 in c:\\users\\mvair\\anaconda3\\lib\\site-packages (from matplotlib) (9.0.1)\n",
      "Requirement already satisfied: six>=1.5 in c:\\users\\mvair\\anaconda3\\lib\\site-packages (from python-dateutil>=2.8.1->pandas) (1.16.0)\n",
      "Requirement already satisfied: colorama in c:\\users\\mvair\\anaconda3\\lib\\site-packages (from tqdm>=4.27.0->shap) (0.4.4)\n",
      "Requirement already satisfied: setuptools in c:\\users\\mvair\\anaconda3\\lib\\site-packages (from numba->shap) (61.2.0)\n",
      "Collecting numpy\n",
      "  Using cached numpy-1.21.6-cp39-cp39-win_amd64.whl (14.0 MB)\n",
      "Requirement already satisfied: llvmlite<0.39,>=0.38.0rc1 in c:\\users\\mvair\\anaconda3\\lib\\site-packages (from numba->shap) (0.38.0)\n",
      "Requirement already satisfied: threadpoolctl>=2.0.0 in c:\\users\\mvair\\anaconda3\\lib\\site-packages (from scikit-learn->shap) (2.2.0)\n",
      "Requirement already satisfied: joblib>=0.11 in c:\\users\\mvair\\anaconda3\\lib\\site-packages (from scikit-learn->shap) (1.1.0)\n",
      "Installing collected packages: numpy\n",
      "  Attempting uninstall: numpy\n",
      "    Found existing installation: numpy 1.26.2"
     ]
    },
    {
     "name": "stderr",
     "output_type": "stream",
     "text": [
      "ERROR: pip's dependency resolver does not currently take into account all the packages that are installed. This behaviour is the source of the following dependency conflicts.\n",
      "daal4py 2021.5.0 requires daal==2021.4.0, which is not installed.\n",
      "tensorflow-intel 2.12.0 requires numpy<1.24,>=1.22, but you have numpy 1.21.6 which is incompatible.\n",
      "streamlit 1.13.0 requires protobuf!=3.20.2,<4,>=3.12, but you have protobuf 4.22.4 which is incompatible.\n"
     ]
    },
    {
     "name": "stdout",
     "output_type": "stream",
     "text": [
      "\n",
      "    Uninstalling numpy-1.26.2:\n",
      "      Successfully uninstalled numpy-1.26.2\n",
      "Successfully installed numpy-1.21.6\n"
     ]
    }
   ],
   "source": [
    "!pip install numpy pandas h5py netCDF4 xgboost shap matplotlib"
   ]
  },
  {
   "cell_type": "code",
   "execution_count": 5,
   "id": "c0dcca2c",
   "metadata": {},
   "outputs": [
    {
     "name": "stdout",
     "output_type": "stream",
     "text": [
      "Requirement already satisfied: numpy in c:\\users\\mvair\\anaconda3\\lib\\site-packages (1.26.2)\n",
      "Note: you may need to restart the kernel to use updated packages.\n"
     ]
    }
   ],
   "source": [
    "pip install --upgrade --user numpy\n"
   ]
  },
  {
   "cell_type": "code",
   "execution_count": 4,
   "id": "c4aab5ed",
   "metadata": {},
   "outputs": [
    {
     "name": "stdout",
     "output_type": "stream",
     "text": [
      "Requirement already satisfied: netCDF4 in c:\\users\\mvair\\appdata\\roaming\\python\\python39\\site-packages (1.6.5)\n",
      "Requirement already satisfied: numpy in c:\\users\\mvair\\anaconda3\\lib\\site-packages (from netCDF4) (1.26.2)\n",
      "Requirement already satisfied: cftime in c:\\users\\mvair\\appdata\\roaming\\python\\python39\\site-packages (from netCDF4) (1.6.3)\n",
      "Requirement already satisfied: certifi in c:\\users\\mvair\\anaconda3\\lib\\site-packages (from netCDF4) (2021.10.8)\n",
      "Note: you may need to restart the kernel to use updated packages.\n"
     ]
    }
   ],
   "source": [
    "pip install --upgrade netCDF4\n"
   ]
  },
  {
   "cell_type": "code",
   "execution_count": 4,
   "id": "37dbdcb0",
   "metadata": {},
   "outputs": [
    {
     "name": "stdout",
     "output_type": "stream",
     "text": [
      "Collecting numpy==1.22.0"
     ]
    },
    {
     "name": "stderr",
     "output_type": "stream",
     "text": [
      "ERROR: Could not install packages due to an OSError: [WinError 5] Access is denied: 'C:\\\\Users\\\\mvair\\\\anaconda3\\\\Lib\\\\site-packages\\\\~umpy.libs\\\\libopenblas64__v0.3.23-293-gc2f4bdbb-gcc_10_3_0-2bde3a66a51006b2b53eb373ff767a3f.dll'\n",
      "Consider using the `--user` option or check the permissions.\n",
      "\n"
     ]
    },
    {
     "name": "stdout",
     "output_type": "stream",
     "text": [
      "\n",
      "  Downloading numpy-1.22.0-cp39-cp39-win_amd64.whl (14.7 MB)\n",
      "Installing collected packages: numpy\n",
      "  Attempting uninstall: numpy\n",
      "    Found existing installation: numpy 1.26.2\n",
      "    Uninstalling numpy-1.26.2:\n",
      "      Successfully uninstalled numpy-1.26.2\n",
      "Requirement already satisfied: scipy in c:\\users\\mvair\\anaconda3\\lib\\site-packages (1.7.3)\n",
      "Collecting scipy\n",
      "  Downloading scipy-1.11.4-cp39-cp39-win_amd64.whl (44.3 MB)\n",
      "Requirement already satisfied: numpy<1.28.0,>=1.21.6 in c:\\users\\mvair\\anaconda3\\lib\\site-packages (from scipy) (1.22.0)\n",
      "Installing collected packages: scipy\n",
      "  Attempting uninstall: scipy\n",
      "    Found existing installation: scipy 1.7.3\n",
      "    Uninstalling scipy-1.7.3:\n",
      "      Successfully uninstalled scipy-1.7.3\n",
      "Successfully installed scipy-1.11.4\n",
      "Requirement already satisfied: numba in c:\\users\\mvair\\anaconda3\\lib\\site-packages (0.55.1)\n",
      "Collecting numba\n",
      "  Downloading numba-0.58.1-cp39-cp39-win_amd64.whl (2.6 MB)\n",
      "Collecting llvmlite<0.42,>=0.41.0dev0\n",
      "  Downloading llvmlite-0.41.1-cp39-cp39-win_amd64.whl (28.1 MB)\n",
      "Requirement already satisfied: numpy<1.27,>=1.22 in c:\\users\\mvair\\anaconda3\\lib\\site-packages (from numba) (1.22.0)\n",
      "Installing collected packages: llvmlite, numba\n",
      "  Attempting uninstall: llvmlite\n",
      "    Found existing installation: llvmlite 0.38.0\n"
     ]
    },
    {
     "name": "stderr",
     "output_type": "stream",
     "text": [
      "ERROR: Cannot uninstall 'llvmlite'. It is a distutils installed project and thus we cannot accurately determine which files belong to it which would lead to only a partial uninstall.\n"
     ]
    }
   ],
   "source": [
    "!pip install --user numpy==1.22.0\n",
    "!pip install --upgrade scipy\n",
    "!pip install --upgrade numba\n"
   ]
  },
  {
   "cell_type": "code",
   "execution_count": 8,
   "id": "629bd22f",
   "metadata": {},
   "outputs": [
    {
     "name": "stdout",
     "output_type": "stream",
     "text": [
      "Collecting llvmlite<0.39\n",
      "  Downloading llvmlite-0.38.1-cp39-cp39-win_amd64.whl (23.2 MB)\n",
      "Collecting numpy<1.22\n",
      "  Using cached numpy-1.21.6-cp39-cp39-win_amd64.whl (14.0 MB)\n",
      "Installing collected packages: numpy, llvmlite\n"
     ]
    },
    {
     "name": "stderr",
     "output_type": "stream",
     "text": [
      "  WARNING: The script f2py.exe is installed in 'C:\\Users\\mvair\\AppData\\Roaming\\Python\\Python39\\Scripts' which is not on PATH.\n",
      "  Consider adding this directory to PATH or, if you prefer to suppress this warning, use --no-warn-script-location.\n",
      "ERROR: pip's dependency resolver does not currently take into account all the packages that are installed. This behaviour is the source of the following dependency conflicts.\n",
      "daal4py 2021.5.0 requires daal==2021.4.0, which is not installed.\n",
      "tensorflow-intel 2.12.0 requires numpy<1.24,>=1.22, but you have numpy 1.21.6 which is incompatible.\n",
      "streamlit 1.13.0 requires protobuf!=3.20.2,<4,>=3.12, but you have protobuf 4.22.4 which is incompatible.\n"
     ]
    },
    {
     "name": "stdout",
     "output_type": "stream",
     "text": [
      "Successfully installed llvmlite-0.38.1 numpy-1.21.6\n",
      "Requirement already satisfied: numba in c:\\users\\mvair\\anaconda3\\lib\\site-packages (0.55.1)\n",
      "Collecting numba\n",
      "  Using cached numba-0.58.1-cp39-cp39-win_amd64.whl (2.6 MB)\n",
      "Collecting numpy<1.27,>=1.22\n",
      "  Using cached numpy-1.26.2-cp39-cp39-win_amd64.whl (15.8 MB)\n",
      "Collecting llvmlite<0.42,>=0.41.0dev0\n",
      "  Using cached llvmlite-0.41.1-cp39-cp39-win_amd64.whl (28.1 MB)\n"
     ]
    },
    {
     "name": "stderr",
     "output_type": "stream",
     "text": [
      "  WARNING: The script f2py.exe is installed in 'C:\\Users\\mvair\\AppData\\Roaming\\Python\\Python39\\Scripts' which is not on PATH.\n",
      "  Consider adding this directory to PATH or, if you prefer to suppress this warning, use --no-warn-script-location.\n",
      "ERROR: pip's dependency resolver does not currently take into account all the packages that are installed. This behaviour is the source of the following dependency conflicts.\n",
      "daal4py 2021.5.0 requires daal==2021.4.0, which is not installed.\n",
      "tensorflow-intel 2.12.0 requires numpy<1.24,>=1.22, but you have numpy 1.26.2 which is incompatible.\n",
      "streamlit 1.13.0 requires protobuf!=3.20.2,<4,>=3.12, but you have protobuf 4.22.4 which is incompatible.\n"
     ]
    },
    {
     "name": "stdout",
     "output_type": "stream",
     "text": [
      "Installing collected packages: numpy, llvmlite, numba\n",
      "  Attempting uninstall: numpy\n",
      "    Found existing installation: numpy 1.21.6\n",
      "    Uninstalling numpy-1.21.6:\n",
      "      Successfully uninstalled numpy-1.21.6\n",
      "  Attempting uninstall: llvmlite\n",
      "    Found existing installation: llvmlite 0.38.1\n",
      "    Uninstalling llvmlite-0.38.1:\n",
      "      Successfully uninstalled llvmlite-0.38.1\n",
      "Successfully installed llvmlite-0.41.1 numba-0.58.1 numpy-1.26.2\n"
     ]
    }
   ],
   "source": [
    "!pip install --user \"llvmlite<0.39\" \"numpy<1.22\"\n",
    "!pip install --user --upgrade numba\n"
   ]
  },
  {
   "cell_type": "code",
   "execution_count": 11,
   "id": "0538428f",
   "metadata": {},
   "outputs": [
    {
     "name": "stdout",
     "output_type": "stream",
     "text": [
      "Requirement already satisfied: numba in c:\\users\\mvair\\appdata\\roaming\\python\\python39\\site-packages (0.58.1)\n",
      "Requirement already satisfied: llvmlite in c:\\users\\mvair\\appdata\\roaming\\python\\python39\\site-packages (0.41.1)\n",
      "Requirement already satisfied: numpy<1.27,>=1.22 in c:\\users\\mvair\\appdata\\roaming\\python\\python39\\site-packages (from numba) (1.26.2)\n",
      "Requirement already satisfied: shap in c:\\users\\mvair\\appdata\\roaming\\python\\python39\\site-packages (0.44.0)\n",
      "Requirement already satisfied: packaging>20.9 in c:\\users\\mvair\\anaconda3\\lib\\site-packages (from shap) (21.3)\n",
      "Requirement already satisfied: pandas in c:\\users\\mvair\\anaconda3\\lib\\site-packages (from shap) (1.4.2)\n",
      "Requirement already satisfied: slicer==0.0.7 in c:\\users\\mvair\\appdata\\roaming\\python\\python39\\site-packages (from shap) (0.0.7)\n",
      "Requirement already satisfied: cloudpickle in c:\\users\\mvair\\anaconda3\\lib\\site-packages (from shap) (2.0.0)\n",
      "Requirement already satisfied: tqdm>=4.27.0 in c:\\users\\mvair\\anaconda3\\lib\\site-packages (from shap) (4.64.0)\n",
      "Requirement already satisfied: numba in c:\\users\\mvair\\appdata\\roaming\\python\\python39\\site-packages (from shap) (0.58.1)\n",
      "Requirement already satisfied: scipy in c:\\users\\mvair\\anaconda3\\lib\\site-packages (from shap) (1.11.4)\n",
      "Requirement already satisfied: scikit-learn in c:\\users\\mvair\\anaconda3\\lib\\site-packages (from shap) (1.0.2)\n",
      "Requirement already satisfied: numpy in c:\\users\\mvair\\appdata\\roaming\\python\\python39\\site-packages (from shap) (1.26.2)\n",
      "Requirement already satisfied: pyparsing!=3.0.5,>=2.0.2 in c:\\users\\mvair\\anaconda3\\lib\\site-packages (from packaging>20.9->shap) (3.0.4)\n",
      "Requirement already satisfied: colorama in c:\\users\\mvair\\anaconda3\\lib\\site-packages (from tqdm>=4.27.0->shap) (0.4.4)\n",
      "Requirement already satisfied: llvmlite<0.42,>=0.41.0dev0 in c:\\users\\mvair\\appdata\\roaming\\python\\python39\\site-packages (from numba->shap) (0.41.1)\n",
      "Requirement already satisfied: python-dateutil>=2.8.1 in c:\\users\\mvair\\anaconda3\\lib\\site-packages (from pandas->shap) (2.8.2)\n",
      "Requirement already satisfied: pytz>=2020.1 in c:\\users\\mvair\\anaconda3\\lib\\site-packages (from pandas->shap) (2021.3)\n",
      "Requirement already satisfied: six>=1.5 in c:\\users\\mvair\\anaconda3\\lib\\site-packages (from python-dateutil>=2.8.1->pandas->shap) (1.16.0)\n",
      "Requirement already satisfied: threadpoolctl>=2.0.0 in c:\\users\\mvair\\anaconda3\\lib\\site-packages (from scikit-learn->shap) (2.2.0)\n",
      "Requirement already satisfied: joblib>=0.11 in c:\\users\\mvair\\anaconda3\\lib\\site-packages (from scikit-learn->shap) (1.1.0)\n"
     ]
    }
   ],
   "source": [
    "!pip install --upgrade numba llvmlite\n",
    "!pip install --upgrade shap\n"
   ]
  },
  {
   "cell_type": "code",
   "execution_count": 2,
   "id": "14d82858",
   "metadata": {},
   "outputs": [
    {
     "name": "stdout",
     "output_type": "stream",
     "text": [
      "Collecting satpy\n",
      "  Downloading satpy-0.46.0.tar.gz (1.4 MB)\n",
      "  Installing build dependencies: started\n",
      "  Installing build dependencies: finished with status 'done'\n",
      "  Getting requirements to build wheel: started\n",
      "  Getting requirements to build wheel: finished with status 'done'\n",
      "    Preparing wheel metadata: started\n",
      "    Preparing wheel metadata: finished with status 'done'\n",
      "Collecting trollsift\n",
      "  Downloading trollsift-0.5.1.tar.gz (47 kB)\n",
      "Requirement already satisfied: xarray>=0.14.1 in c:\\users\\mvair\\anaconda3\\lib\\site-packages (from satpy) (0.20.1)\n",
      "Collecting zarr\n",
      "  Downloading zarr-2.16.1-py3-none-any.whl (206 kB)\n",
      "Note: you may need to restart the kernel to use updated packages.Requirement already satisfied: pyyaml>=5.1 in c:\\users\\mvair\\anaconda3\\lib\\site-packages (from satpy) (6.0)\n",
      "\n",
      "Collecting pyorbital\n",
      "  Downloading pyorbital-1.8.0.tar.gz (82 kB)\n",
      "Collecting donfig\n",
      "  Downloading donfig-0.8.1.post0-py3-none-any.whl (24 kB)\n",
      "Collecting pooch\n",
      "  Downloading pooch-1.8.0-py3-none-any.whl (62 kB)\n",
      "Collecting pykdtree\n",
      "  Downloading pykdtree-1.3.10-cp39-cp39-win_amd64.whl (59 kB)\n",
      "Collecting trollimage>=1.20\n",
      "  Downloading trollimage-1.22.2-cp39-cp39-win_amd64.whl (179 kB)\n",
      "Requirement already satisfied: packaging in c:\\users\\mvair\\anaconda3\\lib\\site-packages (from satpy) (21.3)\n",
      "Requirement already satisfied: dask[array]>=0.17.1 in c:\\users\\mvair\\anaconda3\\lib\\site-packages (from satpy) (2022.2.1)\n",
      "Requirement already satisfied: numpy>=1.21 in c:\\users\\mvair\\appdata\\roaming\\python\\python39\\site-packages (from satpy) (1.26.2)\n",
      "Requirement already satisfied: pyproj>=2.2 in c:\\users\\mvair\\anaconda3\\lib\\site-packages (from satpy) (3.3.1)\n",
      "Collecting pyresample>=1.24.0\n",
      "  Downloading pyresample-1.27.1-cp39-cp39-win_amd64.whl (2.2 MB)\n",
      "Requirement already satisfied: appdirs in c:\\users\\mvair\\anaconda3\\lib\\site-packages (from satpy) (1.4.4)\n",
      "Requirement already satisfied: pillow in c:\\users\\mvair\\anaconda3\\lib\\site-packages (from satpy) (9.0.1)\n",
      "Requirement already satisfied: toolz>=0.8.2 in c:\\users\\mvair\\anaconda3\\lib\\site-packages (from dask[array]>=0.17.1->satpy) (0.11.2)\n",
      "Requirement already satisfied: fsspec>=0.6.0 in c:\\users\\mvair\\anaconda3\\lib\\site-packages (from dask[array]>=0.17.1->satpy) (2022.2.0)\n",
      "Requirement already satisfied: partd>=0.3.10 in c:\\users\\mvair\\anaconda3\\lib\\site-packages (from dask[array]>=0.17.1->satpy) (1.2.0)\n",
      "Requirement already satisfied: cloudpickle>=1.1.1 in c:\\users\\mvair\\anaconda3\\lib\\site-packages (from dask[array]>=0.17.1->satpy) (2.0.0)\n",
      "Requirement already satisfied: pyparsing!=3.0.5,>=2.0.2 in c:\\users\\mvair\\anaconda3\\lib\\site-packages (from packaging->satpy) (3.0.4)\n",
      "Requirement already satisfied: locket in c:\\users\\mvair\\anaconda3\\lib\\site-packages (from partd>=0.3.10->dask[array]>=0.17.1->satpy) (0.2.1)\n",
      "Requirement already satisfied: certifi in c:\\users\\mvair\\anaconda3\\lib\\site-packages (from pyproj>=2.2->satpy) (2021.10.8)\n",
      "Collecting configobj\n",
      "  Downloading configobj-5.0.8-py2.py3-none-any.whl (36 kB)\n",
      "Requirement already satisfied: importlib-metadata in c:\\users\\mvair\\anaconda3\\lib\\site-packages (from pyresample>=1.24.0->satpy) (4.11.3)\n",
      "Requirement already satisfied: shapely in c:\\users\\mvair\\anaconda3\\lib\\site-packages (from pyresample>=1.24.0->satpy) (1.8.4)\n",
      "Requirement already satisfied: setuptools>=3.2 in c:\\users\\mvair\\anaconda3\\lib\\site-packages (from pyresample>=1.24.0->satpy) (61.2.0)\n",
      "Requirement already satisfied: pandas>=1.1 in c:\\users\\mvair\\anaconda3\\lib\\site-packages (from xarray>=0.14.1->satpy) (1.4.2)\n",
      "Requirement already satisfied: python-dateutil>=2.8.1 in c:\\users\\mvair\\anaconda3\\lib\\site-packages (from pandas>=1.1->xarray>=0.14.1->satpy) (2.8.2)\n",
      "Requirement already satisfied: pytz>=2020.1 in c:\\users\\mvair\\anaconda3\\lib\\site-packages (from pandas>=1.1->xarray>=0.14.1->satpy) (2021.3)\n",
      "Requirement already satisfied: six>=1.5 in c:\\users\\mvair\\anaconda3\\lib\\site-packages (from python-dateutil>=2.8.1->pandas>=1.1->xarray>=0.14.1->satpy) (1.16.0)\n",
      "Requirement already satisfied: zipp>=0.5 in c:\\users\\mvair\\anaconda3\\lib\\site-packages (from importlib-metadata->pyresample>=1.24.0->satpy) (3.7.0)\n",
      "Requirement already satisfied: requests>=2.19.0 in c:\\users\\mvair\\anaconda3\\lib\\site-packages (from pooch->satpy) (2.27.1)\n",
      "Collecting platformdirs>=2.5.0\n",
      "  Downloading platformdirs-4.1.0-py3-none-any.whl (17 kB)\n",
      "Requirement already satisfied: urllib3<1.27,>=1.21.1 in c:\\users\\mvair\\anaconda3\\lib\\site-packages (from requests>=2.19.0->pooch->satpy) (1.26.9)\n",
      "Requirement already satisfied: idna<4,>=2.5 in c:\\users\\mvair\\anaconda3\\lib\\site-packages (from requests>=2.19.0->pooch->satpy) (3.3)\n",
      "Requirement already satisfied: charset-normalizer~=2.0.0 in c:\\users\\mvair\\anaconda3\\lib\\site-packages (from requests>=2.19.0->pooch->satpy) (2.0.4)\n",
      "Requirement already satisfied: scipy in c:\\users\\mvair\\anaconda3\\lib\\site-packages (from pyorbital->satpy) (1.11.4)\n",
      "Collecting fasteners\n",
      "  Downloading fasteners-0.19-py3-none-any.whl (18 kB)\n",
      "Collecting numcodecs>=0.10.0\n",
      "  Downloading numcodecs-0.12.1-cp39-cp39-win_amd64.whl (792 kB)\n",
      "Collecting asciitree\n",
      "  Downloading asciitree-0.3.3.tar.gz (4.0 kB)\n",
      "Building wheels for collected packages: satpy, pyorbital, trollsift, asciitree\n",
      "  Building wheel for satpy (PEP 517): started\n",
      "  Building wheel for satpy (PEP 517): finished with status 'done'\n",
      "  Created wheel for satpy: filename=satpy-0.46.0-py2.py3-none-any.whl size=1596370 sha256=df107ca655292ece835688daf93e9dfb2048c3199f76c426ad915525b53b1680\n",
      "  Stored in directory: c:\\users\\mvair\\appdata\\local\\pip\\cache\\wheels\\7d\\ef\\a1\\e5e1f74757f95eb497900acbe1b05fe16a26174ed6034f21d5\n",
      "  Building wheel for pyorbital (setup.py): started\n",
      "  Building wheel for pyorbital (setup.py): finished with status 'done'\n",
      "  Created wheel for pyorbital: filename=pyorbital-1.8.0-py2.py3-none-any.whl size=66925 sha256=38c1bf4327dd4ca2616487edbcd4d19f5fe1d7f17e3a58454ea7617b3ae54d99\n",
      "  Stored in directory: c:\\users\\mvair\\appdata\\local\\pip\\cache\\wheels\\a6\\07\\a4\\cf49fc1bd4faf6897e7b361a27269761aa8297f6484a37f38f\n",
      "  Building wheel for trollsift (setup.py): started\n",
      "  Building wheel for trollsift (setup.py): finished with status 'done'\n",
      "  Created wheel for trollsift: filename=trollsift-0.5.1-py2.py3-none-any.whl size=22808 sha256=0e92379dda843b92d6de80214f087e2e89598cb5c8e78d4dfe5a100a78ee5c13\n",
      "  Stored in directory: c:\\users\\mvair\\appdata\\local\\pip\\cache\\wheels\\a9\\be\\fb\\56f7026a415d0895fd4b4f22ead5d52013b036ac7bd1c11b98\n",
      "  Building wheel for asciitree (setup.py): started\n",
      "  Building wheel for asciitree (setup.py): finished with status 'done'\n",
      "  Created wheel for asciitree: filename=asciitree-0.3.3-py3-none-any.whl size=5050 sha256=7dfaebf7e5f85ed0dc977c0d283aa9b8cd52cdbeb03b3dc53f98dc0cb3368b66\n",
      "  Stored in directory: c:\\users\\mvair\\appdata\\local\\pip\\cache\\wheels\\07\\00\\bc\\937e878be0d781a569792a1e0e5acf149e463d4536453ec978\n",
      "Successfully built satpy pyorbital trollsift asciitree\n",
      "Installing collected packages: pykdtree, platformdirs, numcodecs, fasteners, configobj, asciitree, zarr, trollsift, trollimage, pyresample, pyorbital, pooch, donfig, satpy\n",
      "Successfully installed asciitree-0.3.3 configobj-5.0.8 donfig-0.8.1.post0 fasteners-0.19 numcodecs-0.12.1 platformdirs-4.1.0 pooch-1.8.0 pykdtree-1.3.10 pyorbital-1.8.0 pyresample-1.27.1 satpy-0.46.0 trollimage-1.22.2 trollsift-0.5.1 zarr-2.16.1\n"
     ]
    }
   ],
   "source": [
    "pip install satpy"
   ]
  },
  {
   "cell_type": "code",
   "execution_count": 6,
   "id": "37508a41",
   "metadata": {},
   "outputs": [],
   "source": [
    "import numpy as np\n",
    "import pandas as pd\n",
    "import h5py\n",
    "import netCDF4 as nc\n",
    "from sklearn.model_selection import train_test_split\n",
    "from sklearn.metrics import accuracy_score, confusion_matrix\n",
    "import xgboost as xgb\n",
    "import shap\n",
    "import matplotlib.pyplot as plt\n",
    "from satpy import Scene, find_files_and_readers\n",
    "\n"
   ]
  },
  {
   "cell_type": "code",
   "execution_count": null,
   "id": "8321c325",
   "metadata": {},
   "outputs": [],
   "source": []
  },
  {
   "cell_type": "code",
   "execution_count": null,
   "id": "58fd4e80",
   "metadata": {},
   "outputs": [],
   "source": []
  }
 ],
 "metadata": {
  "kernelspec": {
   "display_name": "Python 3 (ipykernel)",
   "language": "python",
   "name": "python3"
  },
  "language_info": {
   "codemirror_mode": {
    "name": "ipython",
    "version": 3
   },
   "file_extension": ".py",
   "mimetype": "text/x-python",
   "name": "python",
   "nbconvert_exporter": "python",
   "pygments_lexer": "ipython3",
   "version": "3.9.12"
  }
 },
 "nbformat": 4,
 "nbformat_minor": 5
}
